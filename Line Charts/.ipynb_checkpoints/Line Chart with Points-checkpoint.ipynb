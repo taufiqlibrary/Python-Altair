{
 "cells": [
  {
   "cell_type": "code",
   "execution_count": null,
   "id": "e08d17e4-fe07-4f28-bf8a-2bf85d1d4205",
   "metadata": {},
   "outputs": [],
   "source": [
    "import altair as alt\n",
    "import numpy as np\n",
    "import pandas as pd\n",
    "\n",
    "x = np.arange(100)\n",
    "source = pd.DataFrame({\n",
    "    'x': x,\n",
    "    'f(x)': np.sin(x / 5)\n",
    "})\n",
    "\n",
    "alt.Chart(source).mark_line(point=True).encode(\n",
    "    x='x',\n",
    "    y='f(x)'\n",
    ")"
   ]
  }
 ],
 "metadata": {
  "kernelspec": {
   "display_name": "Python 3",
   "language": "python",
   "name": "python3"
  },
  "language_info": {
   "codemirror_mode": {
    "name": "ipython",
    "version": 3
   },
   "file_extension": ".py",
   "mimetype": "text/x-python",
   "name": "python",
   "nbconvert_exporter": "python",
   "pygments_lexer": "ipython3",
   "version": "3.8.8"
  }
 },
 "nbformat": 4,
 "nbformat_minor": 5
}
